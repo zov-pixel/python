{
 "cells": [
  {
   "cell_type": "code",
   "execution_count": 1,
   "id": "c4767dd2-14db-4f9c-927b-55470eccb0cf",
   "metadata": {},
   "outputs": [],
   "source": [
    "import asyncio"
   ]
  },
  {
   "cell_type": "code",
   "execution_count": 75,
   "id": "df821f0e-63bb-432a-be51-191c022b7f62",
   "metadata": {},
   "outputs": [
    {
     "name": "stdin",
     "output_type": "stream",
     "text": [
      "Введите необходимо количество задач для ввода, число больше 0 5\n",
      "Введите наименование задачи: 1\n",
      "Введите цифру от 1 до 5 - время выполнение задачи 5\n",
      "Введите наименование задачи: 2\n",
      "Введите цифру от 1 до 5 - время выполнение задачи 4\n",
      "Введите наименование задачи: 3\n",
      "Введите цифру от 1 до 5 - время выполнение задачи 3\n",
      "Введите наименование задачи: 4\n",
      "Введите цифру от 1 до 5 - время выполнение задачи 2\n",
      "Введите наименование задачи: 5\n",
      "Введите цифру от 1 до 5 - время выполнение задачи 1\n"
     ]
    },
    {
     "name": "stdout",
     "output_type": "stream",
     "text": [
      "Task 5 completed after 1 second\n",
      "Task 4 completed after 2 seconds\n",
      "Task 3 completed after 3 seconds\n",
      "Task 2 completed after 4 seconds\n",
      "Task 1 completed after 5 seconds\n"
     ]
    }
   ],
   "source": [
    "def inputing_task_name():\n",
    "    task_name = input(\"Введите наименование задачи:\" )\n",
    "    if len(task_name) == 0:\n",
    "        print(\"Наименование задачи не внесено. Повторите ввод.\")\n",
    "        return inputing_task_name()\n",
    "    else:\n",
    "        return task_name\n",
    "    \n",
    "def inputing_sleep_time():\n",
    "    sleep_time = int(input(\"Введите цифру от 1 до 5 - время выполнение задачи\"))\n",
    "    if sleep_time < 1 or sleep_time > 5:\n",
    "        print(\"Вы ввели число меньше 1 или больше 5. Повторите ввод.\")\n",
    "        return inputing_sleep_time()\n",
    "    else:\n",
    "        return sleep_time\n",
    "        \n",
    "def task_number():\n",
    "    number = int(input(\"Введите необходимо количество задач для ввода, число больше 0\"))\n",
    "    if number < 1:\n",
    "        print(\"Вы ввели число задач меньше 1. Повторите ввод.\")\n",
    "        return task_number()\n",
    "    else:\n",
    "        return number  \n",
    "    \n",
    "\n",
    "async def delay(task_name, sleep_time):\n",
    "    await asyncio.sleep(sleep_time)\n",
    "    if sleep_time == 1:\n",
    "        print(f'Task {task_name} completed after {sleep_time} second')\n",
    "    else:\n",
    "        print(f'Task {task_name} completed after {sleep_time} seconds')\n",
    "        \n",
    "    \n",
    "async def main():\n",
    "    try:\n",
    "        tasks = [delay(inputing_task_name(), inputing_sleep_time()) for i in range(task_number())]\n",
    "        await asyncio.gather(*tasks)\n",
    "    except ValueError:\n",
    "        print(\"Введено не число, запустите программу заново.\")\n",
    "    except Exception as e:\n",
    "        print(f\"Программа завершена из-за ошибки - {e}\")\n",
    "                         \n",
    "#asyncio.run(main())\n",
    "await main()"
   ]
  },
  {
   "cell_type": "code",
   "execution_count": null,
   "id": "3ee8d061-44be-4efd-9ee7-550ff0ebc348",
   "metadata": {},
   "outputs": [],
   "source": []
  }
 ],
 "metadata": {
  "kernelspec": {
   "display_name": "Python 3 (ipykernel)",
   "language": "python",
   "name": "python3"
  },
  "language_info": {
   "codemirror_mode": {
    "name": "ipython",
    "version": 3
   },
   "file_extension": ".py",
   "mimetype": "text/x-python",
   "name": "python",
   "nbconvert_exporter": "python",
   "pygments_lexer": "ipython3",
   "version": "3.12.4"
  }
 },
 "nbformat": 4,
 "nbformat_minor": 5
}
